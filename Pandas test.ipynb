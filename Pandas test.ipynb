{
 "metadata": {
  "name": "",
  "signature": "sha256:e74c7760354551e76c278e199745125db6de335527b8424a8490b038bf38670c"
 },
 "nbformat": 3,
 "nbformat_minor": 0,
 "worksheets": [
  {
   "cells": [
    {
     "cell_type": "code",
     "collapsed": false,
     "input": [
      "import pandas as pd"
     ],
     "language": "python",
     "metadata": {},
     "outputs": []
    }
   ],
   "metadata": {}
  }
 ]
}