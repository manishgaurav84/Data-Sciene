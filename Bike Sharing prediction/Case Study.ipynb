{
 "cells": [
  {
   "cell_type": "code",
   "execution_count": 510,
   "metadata": {},
   "outputs": [],
   "source": [
    "import warnings\n",
    "warnings.filterwarnings('ignore')\n",
    "\n",
    "import pandas as pd\n",
    "import numpy as np\n",
    "import matplotlib.pyplot as plt\n",
    "import seaborn as sns\n",
    "\n",
    "pd.set_option(\"display.max_columns\", 80)\n",
    "\n",
    "from sklearn.linear_model import LinearRegression\n",
    "from sklearn.model_selection import train_test_split"
   ]
  },
  {
   "cell_type": "code",
   "execution_count": 511,
   "metadata": {},
   "outputs": [],
   "source": [
    "data = pd.read_csv('day.csv', parse_dates=['dteday'])"
   ]
  },
  {
   "cell_type": "code",
   "execution_count": 512,
   "metadata": {},
   "outputs": [
    {
     "data": {
      "text/plain": [
       "(730, 16)"
      ]
     },
     "execution_count": 512,
     "metadata": {},
     "output_type": "execute_result"
    }
   ],
   "source": [
    "data.shape"
   ]
  },
  {
   "cell_type": "markdown",
   "metadata": {},
   "source": [
    "Checking for `NULL` values in the dataset "
   ]
  },
  {
   "cell_type": "code",
   "execution_count": 513,
   "metadata": {},
   "outputs": [
    {
     "data": {
      "text/plain": [
       "instant       0\n",
       "dteday        0\n",
       "season        0\n",
       "yr            0\n",
       "mnth          0\n",
       "holiday       0\n",
       "weekday       0\n",
       "workingday    0\n",
       "weathersit    0\n",
       "temp          0\n",
       "atemp         0\n",
       "hum           0\n",
       "windspeed     0\n",
       "casual        0\n",
       "registered    0\n",
       "cnt           0\n",
       "dtype: int64"
      ]
     },
     "execution_count": 513,
     "metadata": {},
     "output_type": "execute_result"
    }
   ],
   "source": [
    "data.isnull().sum()"
   ]
  },
  {
   "cell_type": "code",
   "execution_count": 514,
   "metadata": {},
   "outputs": [
    {
     "data": {
      "text/html": [
       "<div>\n",
       "<style scoped>\n",
       "    .dataframe tbody tr th:only-of-type {\n",
       "        vertical-align: middle;\n",
       "    }\n",
       "\n",
       "    .dataframe tbody tr th {\n",
       "        vertical-align: top;\n",
       "    }\n",
       "\n",
       "    .dataframe thead th {\n",
       "        text-align: right;\n",
       "    }\n",
       "</style>\n",
       "<table border=\"1\" class=\"dataframe\">\n",
       "  <thead>\n",
       "    <tr style=\"text-align: right;\">\n",
       "      <th></th>\n",
       "      <th>instant</th>\n",
       "      <th>dteday</th>\n",
       "      <th>season</th>\n",
       "      <th>yr</th>\n",
       "      <th>mnth</th>\n",
       "      <th>holiday</th>\n",
       "      <th>weekday</th>\n",
       "      <th>workingday</th>\n",
       "      <th>weathersit</th>\n",
       "      <th>temp</th>\n",
       "      <th>atemp</th>\n",
       "      <th>hum</th>\n",
       "      <th>windspeed</th>\n",
       "      <th>casual</th>\n",
       "      <th>registered</th>\n",
       "      <th>cnt</th>\n",
       "    </tr>\n",
       "  </thead>\n",
       "  <tbody>\n",
       "    <tr>\n",
       "      <th>0</th>\n",
       "      <td>1</td>\n",
       "      <td>2018-01-01</td>\n",
       "      <td>1</td>\n",
       "      <td>0</td>\n",
       "      <td>1</td>\n",
       "      <td>0</td>\n",
       "      <td>6</td>\n",
       "      <td>0</td>\n",
       "      <td>2</td>\n",
       "      <td>14.110847</td>\n",
       "      <td>18.18125</td>\n",
       "      <td>80.5833</td>\n",
       "      <td>10.749882</td>\n",
       "      <td>331</td>\n",
       "      <td>654</td>\n",
       "      <td>985</td>\n",
       "    </tr>\n",
       "    <tr>\n",
       "      <th>1</th>\n",
       "      <td>2</td>\n",
       "      <td>2018-02-01</td>\n",
       "      <td>1</td>\n",
       "      <td>0</td>\n",
       "      <td>1</td>\n",
       "      <td>0</td>\n",
       "      <td>0</td>\n",
       "      <td>0</td>\n",
       "      <td>2</td>\n",
       "      <td>14.902598</td>\n",
       "      <td>17.68695</td>\n",
       "      <td>69.6087</td>\n",
       "      <td>16.652113</td>\n",
       "      <td>131</td>\n",
       "      <td>670</td>\n",
       "      <td>801</td>\n",
       "    </tr>\n",
       "    <tr>\n",
       "      <th>2</th>\n",
       "      <td>3</td>\n",
       "      <td>2018-03-01</td>\n",
       "      <td>1</td>\n",
       "      <td>0</td>\n",
       "      <td>1</td>\n",
       "      <td>0</td>\n",
       "      <td>1</td>\n",
       "      <td>1</td>\n",
       "      <td>1</td>\n",
       "      <td>8.050924</td>\n",
       "      <td>9.47025</td>\n",
       "      <td>43.7273</td>\n",
       "      <td>16.636703</td>\n",
       "      <td>120</td>\n",
       "      <td>1229</td>\n",
       "      <td>1349</td>\n",
       "    </tr>\n",
       "    <tr>\n",
       "      <th>3</th>\n",
       "      <td>4</td>\n",
       "      <td>2018-04-01</td>\n",
       "      <td>1</td>\n",
       "      <td>0</td>\n",
       "      <td>1</td>\n",
       "      <td>0</td>\n",
       "      <td>2</td>\n",
       "      <td>1</td>\n",
       "      <td>1</td>\n",
       "      <td>8.200000</td>\n",
       "      <td>10.60610</td>\n",
       "      <td>59.0435</td>\n",
       "      <td>10.739832</td>\n",
       "      <td>108</td>\n",
       "      <td>1454</td>\n",
       "      <td>1562</td>\n",
       "    </tr>\n",
       "    <tr>\n",
       "      <th>4</th>\n",
       "      <td>5</td>\n",
       "      <td>2018-05-01</td>\n",
       "      <td>1</td>\n",
       "      <td>0</td>\n",
       "      <td>1</td>\n",
       "      <td>0</td>\n",
       "      <td>3</td>\n",
       "      <td>1</td>\n",
       "      <td>1</td>\n",
       "      <td>9.305237</td>\n",
       "      <td>11.46350</td>\n",
       "      <td>43.6957</td>\n",
       "      <td>12.522300</td>\n",
       "      <td>82</td>\n",
       "      <td>1518</td>\n",
       "      <td>1600</td>\n",
       "    </tr>\n",
       "  </tbody>\n",
       "</table>\n",
       "</div>"
      ],
      "text/plain": [
       "   instant     dteday  season  yr  mnth  holiday  weekday  workingday  \\\n",
       "0        1 2018-01-01       1   0     1        0        6           0   \n",
       "1        2 2018-02-01       1   0     1        0        0           0   \n",
       "2        3 2018-03-01       1   0     1        0        1           1   \n",
       "3        4 2018-04-01       1   0     1        0        2           1   \n",
       "4        5 2018-05-01       1   0     1        0        3           1   \n",
       "\n",
       "   weathersit       temp     atemp      hum  windspeed  casual  registered  \\\n",
       "0           2  14.110847  18.18125  80.5833  10.749882     331         654   \n",
       "1           2  14.902598  17.68695  69.6087  16.652113     131         670   \n",
       "2           1   8.050924   9.47025  43.7273  16.636703     120        1229   \n",
       "3           1   8.200000  10.60610  59.0435  10.739832     108        1454   \n",
       "4           1   9.305237  11.46350  43.6957  12.522300      82        1518   \n",
       "\n",
       "    cnt  \n",
       "0   985  \n",
       "1   801  \n",
       "2  1349  \n",
       "3  1562  \n",
       "4  1600  "
      ]
     },
     "execution_count": 514,
     "metadata": {},
     "output_type": "execute_result"
    }
   ],
   "source": [
    "data.head()"
   ]
  },
  {
   "cell_type": "markdown",
   "metadata": {},
   "source": [
    "Renaming the columns into meaningful name"
   ]
  },
  {
   "cell_type": "code",
   "execution_count": 515,
   "metadata": {},
   "outputs": [],
   "source": [
    "data.rename(columns={'holiday':'is_holiday',\n",
    "                        'workingday':'is_workingday',\n",
    "                        'weathersit':'weather_condition',\n",
    "                        'hum':'humidity',\n",
    "                        'mnth':'month',\n",
    "                        'cnt':'total_count',\n",
    "                        'yr':'year'},inplace=True)"
   ]
  },
  {
   "cell_type": "code",
   "execution_count": 516,
   "metadata": {},
   "outputs": [
    {
     "data": {
      "text/plain": [
       "Index(['instant', 'dteday', 'season', 'year', 'month', 'is_holiday', 'weekday',\n",
       "       'is_workingday', 'weather_condition', 'temp', 'atemp', 'humidity',\n",
       "       'windspeed', 'casual', 'registered', 'total_count'],\n",
       "      dtype='object')"
      ]
     },
     "execution_count": 516,
     "metadata": {},
     "output_type": "execute_result"
    }
   ],
   "source": [
    "data.columns"
   ]
  },
  {
   "cell_type": "code",
   "execution_count": 517,
   "metadata": {},
   "outputs": [
    {
     "data": {
      "image/png": "[encoded data removed]",
      "text/plain": [
       "<Figure size 1512x360 with 3 Axes>"
      ]
     },
     "metadata": {
      "needs_background": "light"
     },
     "output_type": "display_data"
    }
   ],
   "source": [
    "\n",
    "plt.figure(figsize = (21, 5))\n",
    "\n",
    "continuous_cols = ['atemp', 'humidity', 'windspeed']\n",
    "for i in enumerate(continuous_cols):\n",
    "    plt.subplot(1, 3, i[0]+1)\n",
    "    plt.tight_layout(pad=0.5)\n",
    "    sns.regplot(x=i[1], y='total_count', data=data)"
   ]
  },
  {
   "cell_type": "markdown",
   "metadata": {},
   "source": [
    "The above plots shows the correlation between atemp and count is the most"
   ]
  },
  {
   "cell_type": "code",
   "execution_count": 518,
   "metadata": {},
   "outputs": [
    {
     "name": "stdout",
     "output_type": "stream",
     "text": [
      "<class 'pandas.core.frame.DataFrame'>\n",
      "RangeIndex: 730 entries, 0 to 729\n",
      "Data columns (total 16 columns):\n",
      " #   Column             Non-Null Count  Dtype         \n",
      "---  ------             --------------  -----         \n",
      " 0   instant            730 non-null    int64         \n",
      " 1   dteday             730 non-null    datetime64[ns]\n",
      " 2   season             730 non-null    int64         \n",
      " 3   year               730 non-null    int64         \n",
      " 4   month              730 non-null    int64         \n",
      " 5   is_holiday         730 non-null    int64         \n",
      " 6   weekday            730 non-null    int64         \n",
      " 7   is_workingday      730 non-null    int64         \n",
      " 8   weather_condition  730 non-null    int64         \n",
      " 9   temp               730 non-null    float64       \n",
      " 10  atemp              730 non-null    float64       \n",
      " 11  humidity           730 non-null    float64       \n",
      " 12  windspeed          730 non-null    float64       \n",
      " 13  casual             730 non-null    int64         \n",
      " 14  registered         730 non-null    int64         \n",
      " 15  total_count        730 non-null    int64         \n",
      "dtypes: datetime64[ns](1), float64(4), int64(11)\n",
      "memory usage: 91.4 KB\n"
     ]
    }
   ],
   "source": [
    "data.info()"
   ]
  },
  {
   "cell_type": "markdown",
   "metadata": {},
   "source": [
    "From the data info() we can see that the features are either of these 3 data types,  `dates` `integers` and `floats`\n",
    "\n",
    "Now remove the redundant features below and the reason to drop them.\n",
    "\n",
    "`instant`- This is just a index for each observation.\n",
    "\n",
    "`dteday` - This represnt the date on which the observation is recorded. But it can be deduced using other featrues, ie, year, mont and weekday.\n",
    "\n",
    "`temp` - It is the actual temperature of a particular day. We have `atemp` column which also tells about the feels-like temperature of that day.Both are highly correlated, as shown in the plot above. So I will keep `atemp` and drop `temp`.\n",
    "\n",
    "Also drop `casual` and `registered` feature as these are kind of target variable because cnt = casual + registered."
   ]
  },
  {
   "cell_type": "code",
   "execution_count": 519,
   "metadata": {},
   "outputs": [],
   "source": [
    "data.drop(columns=['instant', 'dteday', 'temp', 'casual', 'registered'], inplace=True)"
   ]
  },
  {
   "cell_type": "code",
   "execution_count": 520,
   "metadata": {},
   "outputs": [
    {
     "data": {
      "text/html": [
       "<div>\n",
       "<style scoped>\n",
       "    .dataframe tbody tr th:only-of-type {\n",
       "        vertical-align: middle;\n",
       "    }\n",
       "\n",
       "    .dataframe tbody tr th {\n",
       "        vertical-align: top;\n",
       "    }\n",
       "\n",
       "    .dataframe thead th {\n",
       "        text-align: right;\n",
       "    }\n",
       "</style>\n",
       "<table border=\"1\" class=\"dataframe\">\n",
       "  <thead>\n",
       "    <tr style=\"text-align: right;\">\n",
       "      <th></th>\n",
       "      <th>season</th>\n",
       "      <th>year</th>\n",
       "      <th>month</th>\n",
       "      <th>is_holiday</th>\n",
       "      <th>weekday</th>\n",
       "      <th>is_workingday</th>\n",
       "      <th>weather_condition</th>\n",
       "      <th>atemp</th>\n",
       "      <th>humidity</th>\n",
       "      <th>windspeed</th>\n",
       "      <th>total_count</th>\n",
       "    </tr>\n",
       "  </thead>\n",
       "  <tbody>\n",
       "    <tr>\n",
       "      <th>0</th>\n",
       "      <td>1</td>\n",
       "      <td>0</td>\n",
       "      <td>1</td>\n",
       "      <td>0</td>\n",
       "      <td>6</td>\n",
       "      <td>0</td>\n",
       "      <td>2</td>\n",
       "      <td>18.18125</td>\n",
       "      <td>80.5833</td>\n",
       "      <td>10.749882</td>\n",
       "      <td>985</td>\n",
       "    </tr>\n",
       "    <tr>\n",
       "      <th>1</th>\n",
       "      <td>1</td>\n",
       "      <td>0</td>\n",
       "      <td>1</td>\n",
       "      <td>0</td>\n",
       "      <td>0</td>\n",
       "      <td>0</td>\n",
       "      <td>2</td>\n",
       "      <td>17.68695</td>\n",
       "      <td>69.6087</td>\n",
       "      <td>16.652113</td>\n",
       "      <td>801</td>\n",
       "    </tr>\n",
       "    <tr>\n",
       "      <th>2</th>\n",
       "      <td>1</td>\n",
       "      <td>0</td>\n",
       "      <td>1</td>\n",
       "      <td>0</td>\n",
       "      <td>1</td>\n",
       "      <td>1</td>\n",
       "      <td>1</td>\n",
       "      <td>9.47025</td>\n",
       "      <td>43.7273</td>\n",
       "      <td>16.636703</td>\n",
       "      <td>1349</td>\n",
       "    </tr>\n",
       "    <tr>\n",
       "      <th>3</th>\n",
       "      <td>1</td>\n",
       "      <td>0</td>\n",
       "      <td>1</td>\n",
       "      <td>0</td>\n",
       "      <td>2</td>\n",
       "      <td>1</td>\n",
       "      <td>1</td>\n",
       "      <td>10.60610</td>\n",
       "      <td>59.0435</td>\n",
       "      <td>10.739832</td>\n",
       "      <td>1562</td>\n",
       "    </tr>\n",
       "    <tr>\n",
       "      <th>4</th>\n",
       "      <td>1</td>\n",
       "      <td>0</td>\n",
       "      <td>1</td>\n",
       "      <td>0</td>\n",
       "      <td>3</td>\n",
       "      <td>1</td>\n",
       "      <td>1</td>\n",
       "      <td>11.46350</td>\n",
       "      <td>43.6957</td>\n",
       "      <td>12.522300</td>\n",
       "      <td>1600</td>\n",
       "    </tr>\n",
       "  </tbody>\n",
       "</table>\n",
       "</div>"
      ],
      "text/plain": [
       "   season  year  month  is_holiday  weekday  is_workingday  weather_condition  \\\n",
       "0       1     0      1           0        6              0                  2   \n",
       "1       1     0      1           0        0              0                  2   \n",
       "2       1     0      1           0        1              1                  1   \n",
       "3       1     0      1           0        2              1                  1   \n",
       "4       1     0      1           0        3              1                  1   \n",
       "\n",
       "      atemp  humidity  windspeed  total_count  \n",
       "0  18.18125   80.5833  10.749882          985  \n",
       "1  17.68695   69.6087  16.652113          801  \n",
       "2   9.47025   43.7273  16.636703         1349  \n",
       "3  10.60610   59.0435  10.739832         1562  \n",
       "4  11.46350   43.6957  12.522300         1600  "
      ]
     },
     "execution_count": 520,
     "metadata": {},
     "output_type": "execute_result"
    }
   ],
   "source": [
    "data.head()"
   ]
  },
  {
   "cell_type": "markdown",
   "metadata": {},
   "source": [
    "Plotting the data distribution for categorical columns and total_counnt"
   ]
  },
  {
   "cell_type": "code",
   "execution_count": 521,
   "metadata": {},
   "outputs": [
    {
     "data": {
      "text/plain": [
       "<matplotlib.axes._subplots.AxesSubplot at 0x1e6e3565e88>"
      ]
     },
     "execution_count": 521,
     "metadata": {},
     "output_type": "execute_result"
    },
    {
     "data": {
      "image/png": "[encoded data removed]",
      "text/plain": [
       "<Figure size 1440x720 with 8 Axes>"
      ]
     },
     "metadata": {
      "needs_background": "light"
     },
     "output_type": "display_data"
    }
   ],
   "source": [
    "figure, ((ax1, ax2, ax3, ax4), (ax5, ax6, ax7, ax8)) = plt.subplots(nrows=2, ncols=4)\n",
    "figure.set_size_inches(20, 10)\n",
    "\n",
    "sns.boxplot(data=data, y='total_count', ax=ax1)\n",
    "sns.boxplot(data=data, x='year', y='total_count', ax=ax2)\n",
    "sns.boxplot(data=data, x='month', y='total_count', ax=ax3)\n",
    "sns.boxplot(data=data, x='weekday', y='total_count', ax=ax4)\n",
    "sns.boxplot(data=data, x='season', y='total_count', ax=ax5)\n",
    "sns.boxplot(data=data, x='is_holiday', y='total_count', ax=ax6)\n",
    "sns.boxplot(data=data, x='is_workingday', y='total_count', ax=ax7)\n",
    "sns.boxplot(data=data, x='weather_condition', y='total_count', ax=ax8)\n"
   ]
  },
  {
   "cell_type": "code",
   "execution_count": 522,
   "metadata": {},
   "outputs": [
    {
     "data": {
      "text/plain": [
       "<matplotlib.axes._subplots.AxesSubplot at 0x1e6e379fcc8>"
      ]
     },
     "execution_count": 522,
     "metadata": {},
     "output_type": "execute_result"
    },
    {
     "data": {
      "image/png": "[encoded data removed]",
      "text/plain": [
       "<Figure size 800x400 with 1 Axes>"
      ]
     },
     "metadata": {
      "needs_background": "light"
     },
     "output_type": "display_data"
    }
   ],
   "source": [
    "# no. of bikes accoding to season column\n",
    "plt.figure(figsize=(8,4), dpi=100)\n",
    "sns.countplot(x='season',data=data,palette='viridis')"
   ]
  },
  {
   "cell_type": "code",
   "execution_count": 523,
   "metadata": {},
   "outputs": [
    {
     "data": {
      "text/plain": [
       "<matplotlib.axes._subplots.AxesSubplot at 0x1e6e38a5a08>"
      ]
     },
     "execution_count": 523,
     "metadata": {},
     "output_type": "execute_result"
    },
    {
     "data": {
      "image/png": "[encoded data removed]",
      "text/plain": [
       "<Figure size 800x400 with 1 Axes>"
      ]
     },
     "metadata": {
      "needs_background": "light"
     },
     "output_type": "display_data"
    }
   ],
   "source": [
    "#no 0f bikes according to weather codition\n",
    "plt.figure(figsize=(8,4), dpi=100)\n",
    "sns.countplot(x='weather_condition',data=data,palette='viridis')"
   ]
  },
  {
   "cell_type": "markdown",
   "metadata": {},
   "source": [
    "The count decreases when the weather condition deteroriates to cloudy to rainy "
   ]
  },
  {
   "cell_type": "code",
   "execution_count": 524,
   "metadata": {},
   "outputs": [
    {
     "data": {
      "text/plain": [
       "<matplotlib.axes._subplots.AxesSubplot at 0x1e6e38f7308>"
      ]
     },
     "execution_count": 524,
     "metadata": {},
     "output_type": "execute_result"
    },
    {
     "data": {
      "image/png": "[encoded data removed]",
      "text/plain": [
       "<Figure size 800x400 with 1 Axes>"
      ]
     },
     "metadata": {
      "needs_background": "light"
     },
     "output_type": "display_data"
    }
   ],
   "source": [
    "#no 0f bikes according to weather code\n",
    "plt.figure(figsize=(8,4), dpi=100)\n",
    "sns.countplot(x='month',data=data,palette='viridis')"
   ]
  },
  {
   "cell_type": "code",
   "execution_count": 525,
   "metadata": {},
   "outputs": [
    {
     "data": {
      "text/plain": [
       "Index(['season', 'year', 'month', 'is_holiday', 'weekday', 'is_workingday',\n",
       "       'weather_condition', 'atemp', 'humidity', 'windspeed', 'total_count'],\n",
       "      dtype='object')"
      ]
     },
     "execution_count": 525,
     "metadata": {},
     "output_type": "execute_result"
    }
   ],
   "source": [
    "data.columns"
   ]
  },
  {
   "cell_type": "code",
   "execution_count": 526,
   "metadata": {},
   "outputs": [],
   "source": [
    "data_dummified = data.copy()"
   ]
  },
  {
   "cell_type": "code",
   "execution_count": 527,
   "metadata": {},
   "outputs": [
    {
     "data": {
      "text/html": [
       "<div>\n",
       "<style scoped>\n",
       "    .dataframe tbody tr th:only-of-type {\n",
       "        vertical-align: middle;\n",
       "    }\n",
       "\n",
       "    .dataframe tbody tr th {\n",
       "        vertical-align: top;\n",
       "    }\n",
       "\n",
       "    .dataframe thead th {\n",
       "        text-align: right;\n",
       "    }\n",
       "</style>\n",
       "<table border=\"1\" class=\"dataframe\">\n",
       "  <thead>\n",
       "    <tr style=\"text-align: right;\">\n",
       "      <th></th>\n",
       "      <th>season</th>\n",
       "      <th>year</th>\n",
       "      <th>month</th>\n",
       "      <th>is_holiday</th>\n",
       "      <th>weekday</th>\n",
       "      <th>is_workingday</th>\n",
       "      <th>weather_condition</th>\n",
       "      <th>atemp</th>\n",
       "      <th>humidity</th>\n",
       "      <th>windspeed</th>\n",
       "      <th>total_count</th>\n",
       "    </tr>\n",
       "  </thead>\n",
       "  <tbody>\n",
       "    <tr>\n",
       "      <th>0</th>\n",
       "      <td>spring</td>\n",
       "      <td>0</td>\n",
       "      <td>Jan</td>\n",
       "      <td>0</td>\n",
       "      <td>Sat</td>\n",
       "      <td>0</td>\n",
       "      <td>Cloudy</td>\n",
       "      <td>18.18125</td>\n",
       "      <td>80.5833</td>\n",
       "      <td>10.749882</td>\n",
       "      <td>985</td>\n",
       "    </tr>\n",
       "    <tr>\n",
       "      <th>1</th>\n",
       "      <td>spring</td>\n",
       "      <td>0</td>\n",
       "      <td>Jan</td>\n",
       "      <td>0</td>\n",
       "      <td>Sun</td>\n",
       "      <td>0</td>\n",
       "      <td>Cloudy</td>\n",
       "      <td>17.68695</td>\n",
       "      <td>69.6087</td>\n",
       "      <td>16.652113</td>\n",
       "      <td>801</td>\n",
       "    </tr>\n",
       "    <tr>\n",
       "      <th>2</th>\n",
       "      <td>spring</td>\n",
       "      <td>0</td>\n",
       "      <td>Jan</td>\n",
       "      <td>0</td>\n",
       "      <td>Mon</td>\n",
       "      <td>1</td>\n",
       "      <td>Clear</td>\n",
       "      <td>9.47025</td>\n",
       "      <td>43.7273</td>\n",
       "      <td>16.636703</td>\n",
       "      <td>1349</td>\n",
       "    </tr>\n",
       "    <tr>\n",
       "      <th>3</th>\n",
       "      <td>spring</td>\n",
       "      <td>0</td>\n",
       "      <td>Jan</td>\n",
       "      <td>0</td>\n",
       "      <td>Tue</td>\n",
       "      <td>1</td>\n",
       "      <td>Clear</td>\n",
       "      <td>10.60610</td>\n",
       "      <td>59.0435</td>\n",
       "      <td>10.739832</td>\n",
       "      <td>1562</td>\n",
       "    </tr>\n",
       "    <tr>\n",
       "      <th>4</th>\n",
       "      <td>spring</td>\n",
       "      <td>0</td>\n",
       "      <td>Jan</td>\n",
       "      <td>0</td>\n",
       "      <td>Wed</td>\n",
       "      <td>1</td>\n",
       "      <td>Clear</td>\n",
       "      <td>11.46350</td>\n",
       "      <td>43.6957</td>\n",
       "      <td>12.522300</td>\n",
       "      <td>1600</td>\n",
       "    </tr>\n",
       "  </tbody>\n",
       "</table>\n",
       "</div>"
      ],
      "text/plain": [
       "   season  year month  is_holiday weekday  is_workingday weather_condition  \\\n",
       "0  spring     0   Jan           0     Sat              0            Cloudy   \n",
       "1  spring     0   Jan           0     Sun              0            Cloudy   \n",
       "2  spring     0   Jan           0     Mon              1             Clear   \n",
       "3  spring     0   Jan           0     Tue              1             Clear   \n",
       "4  spring     0   Jan           0     Wed              1             Clear   \n",
       "\n",
       "      atemp  humidity  windspeed  total_count  \n",
       "0  18.18125   80.5833  10.749882          985  \n",
       "1  17.68695   69.6087  16.652113          801  \n",
       "2   9.47025   43.7273  16.636703         1349  \n",
       "3  10.60610   59.0435  10.739832         1562  \n",
       "4  11.46350   43.6957  12.522300         1600  "
      ]
     },
     "execution_count": 527,
     "metadata": {},
     "output_type": "execute_result"
    }
   ],
   "source": [
    "data_dummified['month'] = data_dummified['month'].map({1:\"Jan\", 2:\"Feb\", 3:\"Mar\", 4:\"Apr\", 5:\"May\", 6:\"Jun\", 7:\"Jul\", 8:\"Aug\", \n",
    "                                   9:\"Sep\", 10:\"Oct\", 11:\"Nov\", 12:\"Dec\"})\n",
    "\n",
    "data_dummified['weather_condition'] = data_dummified['weather_condition'].map({1:\"Clear\", 2:\"Cloudy\", 3:\"Light Rain\", 4:\"Heavy Rain\"})\n",
    "\n",
    "data_dummified['season'] = data_dummified['season'].map({1:\"spring\", 2:\"summer\", 3:\"fall\", 4:\"winter\"})\n",
    "\n",
    "dmap = {1:'Mon',2:'Tue',3:'Wed',4:'Thu',5:'Fri',6:'Sat',0:'Sun'}\n",
    "data_dummified['weekday'].astype('object')\n",
    "data_dummified['weekday'] = data_dummified['weekday'].map(dmap)\n",
    "\n",
    "\n",
    "data_dummified.head()"
   ]
  },
  {
   "cell_type": "code",
   "execution_count": 528,
   "metadata": {},
   "outputs": [],
   "source": [
    "# create binary dummy variables from categorical variables and drop first column to avoid multicollinearity\n",
    "data_dummified = pd.get_dummies(data_dummified, columns = ['weather_condition', 'season', 'weekday','month'],drop_first = True)"
   ]
  },
  {
   "cell_type": "code",
   "execution_count": 529,
   "metadata": {},
   "outputs": [
    {
     "name": "stdout",
     "output_type": "stream",
     "text": [
      "<class 'pandas.core.frame.DataFrame'>\n",
      "RangeIndex: 730 entries, 0 to 729\n",
      "Data columns (total 29 columns):\n",
      " #   Column                        Non-Null Count  Dtype  \n",
      "---  ------                        --------------  -----  \n",
      " 0   year                          730 non-null    int64  \n",
      " 1   is_holiday                    730 non-null    int64  \n",
      " 2   is_workingday                 730 non-null    int64  \n",
      " 3   atemp                         730 non-null    float64\n",
      " 4   humidity                      730 non-null    float64\n",
      " 5   windspeed                     730 non-null    float64\n",
      " 6   total_count                   730 non-null    int64  \n",
      " 7   weather_condition_Cloudy      730 non-null    uint8  \n",
      " 8   weather_condition_Light Rain  730 non-null    uint8  \n",
      " 9   season_spring                 730 non-null    uint8  \n",
      " 10  season_summer                 730 non-null    uint8  \n",
      " 11  season_winter                 730 non-null    uint8  \n",
      " 12  weekday_Mon                   730 non-null    uint8  \n",
      " 13  weekday_Sat                   730 non-null    uint8  \n",
      " 14  weekday_Sun                   730 non-null    uint8  \n",
      " 15  weekday_Thu                   730 non-null    uint8  \n",
      " 16  weekday_Tue                   730 non-null    uint8  \n",
      " 17  weekday_Wed                   730 non-null    uint8  \n",
      " 18  month_Aug                     730 non-null    uint8  \n",
      " 19  month_Dec                     730 non-null    uint8  \n",
      " 20  month_Feb                     730 non-null    uint8  \n",
      " 21  month_Jan                     730 non-null    uint8  \n",
      " 22  month_Jul                     730 non-null    uint8  \n",
      " 23  month_Jun                     730 non-null    uint8  \n",
      " 24  month_Mar                     730 non-null    uint8  \n",
      " 25  month_May                     730 non-null    uint8  \n",
      " 26  month_Nov                     730 non-null    uint8  \n",
      " 27  month_Oct                     730 non-null    uint8  \n",
      " 28  month_Sep                     730 non-null    uint8  \n",
      "dtypes: float64(3), int64(4), uint8(22)\n",
      "memory usage: 55.7 KB\n"
     ]
    }
   ],
   "source": [
    "data_dummified.info()"
   ]
  },
  {
   "cell_type": "markdown",
   "metadata": {},
   "source": [
    "Checking the correlation between the important continusous variables"
   ]
  },
  {
   "cell_type": "code",
   "execution_count": 530,
   "metadata": {},
   "outputs": [
    {
     "data": {
      "text/plain": [
       "<matplotlib.axes._subplots.AxesSubplot at 0x1e6e3940248>"
      ]
     },
     "execution_count": 530,
     "metadata": {},
     "output_type": "execute_result"
    },
    {
     "data": {
      "image/png": "[encoded data removed]",
      "text/plain": [
       "<Figure size 432x288 with 2 Axes>"
      ]
     },
     "metadata": {
      "needs_background": "light"
     },
     "output_type": "display_data"
    }
   ],
   "source": [
    "corr = data_dummified[['atemp', 'humidity', 'windspeed', 'total_count']].corr()\n",
    "sns.heatmap(data=corr,\n",
    "           vmax=1.0,\n",
    "           vmin=-1.0,\n",
    "           annot=True)"
   ]
  },
  {
   "cell_type": "markdown",
   "metadata": {},
   "source": [
    "Splitting and Scaling the dataset"
   ]
  },
  {
   "cell_type": "code",
   "execution_count": 531,
   "metadata": {},
   "outputs": [],
   "source": [
    "from sklearn.model_selection import train_test_split\n",
    "\n",
    "# We specify this so that the train and test data set always have the same rows, respectively\n",
    "y = data_dummified.pop('total_count')\n",
    "X= data_dummified\n",
    "X_train, X_test, y_train, y_test = train_test_split(X, y, train_size = 0.7, test_size = 0.3, random_state = 100)"
   ]
  },
  {
   "cell_type": "code",
   "execution_count": 532,
   "metadata": {},
   "outputs": [
    {
     "name": "stdout",
     "output_type": "stream",
     "text": [
      "(510, 28)\n",
      "(510,)\n",
      "(219, 28)\n",
      "(219,)\n"
     ]
    }
   ],
   "source": [
    "print(X_train.shape)\n",
    "print(y_train.shape)\n",
    "print(X_test.shape)\n",
    "print(y_test.shape)"
   ]
  },
  {
   "cell_type": "code",
   "execution_count": 533,
   "metadata": {},
   "outputs": [],
   "source": [
    "from sklearn.preprocessing import MinMaxScaler\n",
    "scaler = MinMaxScaler()"
   ]
  },
  {
   "cell_type": "code",
   "execution_count": 534,
   "metadata": {},
   "outputs": [
    {
     "data": {
      "text/html": [
       "<div>\n",
       "<style scoped>\n",
       "    .dataframe tbody tr th:only-of-type {\n",
       "        vertical-align: middle;\n",
       "    }\n",
       "\n",
       "    .dataframe tbody tr th {\n",
       "        vertical-align: top;\n",
       "    }\n",
       "\n",
       "    .dataframe thead th {\n",
       "        text-align: right;\n",
       "    }\n",
       "</style>\n",
       "<table border=\"1\" class=\"dataframe\">\n",
       "  <thead>\n",
       "    <tr style=\"text-align: right;\">\n",
       "      <th></th>\n",
       "      <th>year</th>\n",
       "      <th>is_holiday</th>\n",
       "      <th>is_workingday</th>\n",
       "      <th>atemp</th>\n",
       "      <th>humidity</th>\n",
       "      <th>windspeed</th>\n",
       "      <th>weather_condition_Cloudy</th>\n",
       "      <th>weather_condition_Light Rain</th>\n",
       "      <th>season_spring</th>\n",
       "      <th>season_summer</th>\n",
       "      <th>season_winter</th>\n",
       "      <th>weekday_Mon</th>\n",
       "      <th>weekday_Sat</th>\n",
       "      <th>weekday_Sun</th>\n",
       "      <th>weekday_Thu</th>\n",
       "      <th>weekday_Tue</th>\n",
       "      <th>weekday_Wed</th>\n",
       "      <th>month_Aug</th>\n",
       "      <th>month_Dec</th>\n",
       "      <th>month_Feb</th>\n",
       "      <th>month_Jan</th>\n",
       "      <th>month_Jul</th>\n",
       "      <th>month_Jun</th>\n",
       "      <th>month_Mar</th>\n",
       "      <th>month_May</th>\n",
       "      <th>month_Nov</th>\n",
       "      <th>month_Oct</th>\n",
       "      <th>month_Sep</th>\n",
       "    </tr>\n",
       "  </thead>\n",
       "  <tbody>\n",
       "    <tr>\n",
       "      <th>653</th>\n",
       "      <td>1</td>\n",
       "      <td>0</td>\n",
       "      <td>1</td>\n",
       "      <td>0.501133</td>\n",
       "      <td>0.575354</td>\n",
       "      <td>0.300794</td>\n",
       "      <td>0</td>\n",
       "      <td>0</td>\n",
       "      <td>0</td>\n",
       "      <td>0</td>\n",
       "      <td>1</td>\n",
       "      <td>0</td>\n",
       "      <td>0</td>\n",
       "      <td>0</td>\n",
       "      <td>0</td>\n",
       "      <td>1</td>\n",
       "      <td>0</td>\n",
       "      <td>0</td>\n",
       "      <td>0</td>\n",
       "      <td>0</td>\n",
       "      <td>0</td>\n",
       "      <td>0</td>\n",
       "      <td>0</td>\n",
       "      <td>0</td>\n",
       "      <td>0</td>\n",
       "      <td>0</td>\n",
       "      <td>1</td>\n",
       "      <td>0</td>\n",
       "    </tr>\n",
       "    <tr>\n",
       "      <th>576</th>\n",
       "      <td>1</td>\n",
       "      <td>0</td>\n",
       "      <td>1</td>\n",
       "      <td>0.766351</td>\n",
       "      <td>0.725633</td>\n",
       "      <td>0.264686</td>\n",
       "      <td>0</td>\n",
       "      <td>0</td>\n",
       "      <td>0</td>\n",
       "      <td>0</td>\n",
       "      <td>0</td>\n",
       "      <td>0</td>\n",
       "      <td>0</td>\n",
       "      <td>0</td>\n",
       "      <td>0</td>\n",
       "      <td>1</td>\n",
       "      <td>0</td>\n",
       "      <td>0</td>\n",
       "      <td>0</td>\n",
       "      <td>0</td>\n",
       "      <td>0</td>\n",
       "      <td>1</td>\n",
       "      <td>0</td>\n",
       "      <td>0</td>\n",
       "      <td>0</td>\n",
       "      <td>0</td>\n",
       "      <td>0</td>\n",
       "      <td>0</td>\n",
       "    </tr>\n",
       "    <tr>\n",
       "      <th>426</th>\n",
       "      <td>1</td>\n",
       "      <td>0</td>\n",
       "      <td>0</td>\n",
       "      <td>0.438975</td>\n",
       "      <td>0.640189</td>\n",
       "      <td>0.255342</td>\n",
       "      <td>1</td>\n",
       "      <td>0</td>\n",
       "      <td>1</td>\n",
       "      <td>0</td>\n",
       "      <td>0</td>\n",
       "      <td>0</td>\n",
       "      <td>1</td>\n",
       "      <td>0</td>\n",
       "      <td>0</td>\n",
       "      <td>0</td>\n",
       "      <td>0</td>\n",
       "      <td>0</td>\n",
       "      <td>0</td>\n",
       "      <td>0</td>\n",
       "      <td>0</td>\n",
       "      <td>0</td>\n",
       "      <td>0</td>\n",
       "      <td>1</td>\n",
       "      <td>0</td>\n",
       "      <td>0</td>\n",
       "      <td>0</td>\n",
       "      <td>0</td>\n",
       "    </tr>\n",
       "    <tr>\n",
       "      <th>728</th>\n",
       "      <td>1</td>\n",
       "      <td>0</td>\n",
       "      <td>0</td>\n",
       "      <td>0.200348</td>\n",
       "      <td>0.498067</td>\n",
       "      <td>0.663106</td>\n",
       "      <td>0</td>\n",
       "      <td>0</td>\n",
       "      <td>1</td>\n",
       "      <td>0</td>\n",
       "      <td>0</td>\n",
       "      <td>0</td>\n",
       "      <td>0</td>\n",
       "      <td>1</td>\n",
       "      <td>0</td>\n",
       "      <td>0</td>\n",
       "      <td>0</td>\n",
       "      <td>0</td>\n",
       "      <td>1</td>\n",
       "      <td>0</td>\n",
       "      <td>0</td>\n",
       "      <td>0</td>\n",
       "      <td>0</td>\n",
       "      <td>0</td>\n",
       "      <td>0</td>\n",
       "      <td>0</td>\n",
       "      <td>0</td>\n",
       "      <td>0</td>\n",
       "    </tr>\n",
       "    <tr>\n",
       "      <th>482</th>\n",
       "      <td>1</td>\n",
       "      <td>0</td>\n",
       "      <td>0</td>\n",
       "      <td>0.391735</td>\n",
       "      <td>0.504508</td>\n",
       "      <td>0.188475</td>\n",
       "      <td>1</td>\n",
       "      <td>0</td>\n",
       "      <td>0</td>\n",
       "      <td>1</td>\n",
       "      <td>0</td>\n",
       "      <td>0</td>\n",
       "      <td>1</td>\n",
       "      <td>0</td>\n",
       "      <td>0</td>\n",
       "      <td>0</td>\n",
       "      <td>0</td>\n",
       "      <td>0</td>\n",
       "      <td>0</td>\n",
       "      <td>0</td>\n",
       "      <td>0</td>\n",
       "      <td>0</td>\n",
       "      <td>0</td>\n",
       "      <td>0</td>\n",
       "      <td>0</td>\n",
       "      <td>0</td>\n",
       "      <td>0</td>\n",
       "      <td>0</td>\n",
       "    </tr>\n",
       "  </tbody>\n",
       "</table>\n",
       "</div>"
      ],
      "text/plain": [
       "     year  is_holiday  is_workingday     atemp  humidity  windspeed  \\\n",
       "653     1           0              1  0.501133  0.575354   0.300794   \n",
       "576     1           0              1  0.766351  0.725633   0.264686   \n",
       "426     1           0              0  0.438975  0.640189   0.255342   \n",
       "728     1           0              0  0.200348  0.498067   0.663106   \n",
       "482     1           0              0  0.391735  0.504508   0.188475   \n",
       "\n",
       "     weather_condition_Cloudy  weather_condition_Light Rain  season_spring  \\\n",
       "653                         0                             0              0   \n",
       "576                         0                             0              0   \n",
       "426                         1                             0              1   \n",
       "728                         0                             0              1   \n",
       "482                         1                             0              0   \n",
       "\n",
       "     season_summer  season_winter  weekday_Mon  weekday_Sat  weekday_Sun  \\\n",
       "653              0              1            0            0            0   \n",
       "576              0              0            0            0            0   \n",
       "426              0              0            0            1            0   \n",
       "728              0              0            0            0            1   \n",
       "482              1              0            0            1            0   \n",
       "\n",
       "     weekday_Thu  weekday_Tue  weekday_Wed  month_Aug  month_Dec  month_Feb  \\\n",
       "653            0            1            0          0          0          0   \n",
       "576            0            1            0          0          0          0   \n",
       "426            0            0            0          0          0          0   \n",
       "728            0            0            0          0          1          0   \n",
       "482            0            0            0          0          0          0   \n",
       "\n",
       "     month_Jan  month_Jul  month_Jun  month_Mar  month_May  month_Nov  \\\n",
       "653          0          0          0          0          0          0   \n",
       "576          0          1          0          0          0          0   \n",
       "426          0          0          0          1          0          0   \n",
       "728          0          0          0          0          0          0   \n",
       "482          0          0          0          0          0          0   \n",
       "\n",
       "     month_Oct  month_Sep  \n",
       "653          1          0  \n",
       "576          0          0  \n",
       "426          0          0  \n",
       "728          0          0  \n",
       "482          0          0  "
      ]
     },
     "execution_count": 534,
     "metadata": {},
     "output_type": "execute_result"
    }
   ],
   "source": [
    "scale_vars = ['atemp', 'humidity', 'windspeed']\n",
    "\n",
    "X_train[scale_vars] = scaler.fit_transform(X_train[scale_vars])\n",
    "X_test = scaler.transform(X_test[scale_vars])\n",
    "X_train.head()"
   ]
  },
  {
   "cell_type": "code",
   "execution_count": 535,
   "metadata": {},
   "outputs": [],
   "source": [
    "# Importing RFE and LinearRegression\n",
    "from sklearn.feature_selection import RFE\n",
    "from sklearn.linear_model import LinearRegression"
   ]
  },
  {
   "cell_type": "markdown",
   "metadata": {},
   "source": [
    "Fidning top 15 variable using RFE technique"
   ]
  },
  {
   "cell_type": "code",
   "execution_count": 536,
   "metadata": {},
   "outputs": [],
   "source": [
    "# Running RFE with the output number of the variable equal to 15\n",
    "lm = LinearRegression()\n",
    "lm.fit(X_train, y_train)\n",
    "\n",
    "rfe = RFE(lm, 15)             # running RFE\n",
    "rfe = rfe.fit(X_train, y_train)"
   ]
  },
  {
   "cell_type": "code",
   "execution_count": 537,
   "metadata": {},
   "outputs": [
    {
     "data": {
      "text/plain": [
       "[('year', True, 1),\n",
       " ('is_holiday', True, 1),\n",
       " ('is_workingday', True, 1),\n",
       " ('atemp', True, 1),\n",
       " ('humidity', True, 1),\n",
       " ('windspeed', True, 1),\n",
       " ('weather_condition_Cloudy', True, 1),\n",
       " ('weather_condition_Light Rain', True, 1),\n",
       " ('season_spring', True, 1),\n",
       " ('season_summer', False, 6),\n",
       " ('season_winter', True, 1),\n",
       " ('weekday_Mon', False, 9),\n",
       " ('weekday_Sat', True, 1),\n",
       " ('weekday_Sun', True, 1),\n",
       " ('weekday_Thu', False, 11),\n",
       " ('weekday_Tue', False, 8),\n",
       " ('weekday_Wed', False, 13),\n",
       " ('month_Aug', False, 7),\n",
       " ('month_Dec', False, 2),\n",
       " ('month_Feb', False, 4),\n",
       " ('month_Jan', True, 1),\n",
       " ('month_Jul', True, 1),\n",
       " ('month_Jun', False, 10),\n",
       " ('month_Mar', False, 14),\n",
       " ('month_May', False, 5),\n",
       " ('month_Nov', False, 3),\n",
       " ('month_Oct', False, 12),\n",
       " ('month_Sep', True, 1)]"
      ]
     },
     "execution_count": 537,
     "metadata": {},
     "output_type": "execute_result"
    }
   ],
   "source": [
    "list(zip(X_train.columns,rfe.support_,rfe.ranking_))"
   ]
  },
  {
   "cell_type": "code",
   "execution_count": 538,
   "metadata": {},
   "outputs": [
    {
     "data": {
      "text/plain": [
       "15"
      ]
     },
     "execution_count": 538,
     "metadata": {},
     "output_type": "execute_result"
    }
   ],
   "source": [
    "selected_features = X_train.columns[rfe.support_]\n",
    "len(selected_features)"
   ]
  },
  {
   "cell_type": "code",
   "execution_count": 539,
   "metadata": {},
   "outputs": [
    {
     "data": {
      "text/plain": [
       "Index(['year', 'is_holiday', 'is_workingday', 'atemp', 'humidity', 'windspeed',\n",
       "       'weather_condition_Cloudy', 'weather_condition_Light Rain',\n",
       "       'season_spring', 'season_winter', 'weekday_Sat', 'weekday_Sun',\n",
       "       'month_Jan', 'month_Jul', 'month_Sep'],\n",
       "      dtype='object')"
      ]
     },
     "execution_count": 539,
     "metadata": {},
     "output_type": "execute_result"
    }
   ],
   "source": [
    "selected_features"
   ]
  },
  {
   "cell_type": "code",
   "execution_count": 540,
   "metadata": {},
   "outputs": [],
   "source": [
    "X_train_rfe = X_train[selected_features]"
   ]
  },
  {
   "cell_type": "code",
   "execution_count": 541,
   "metadata": {},
   "outputs": [],
   "source": [
    "import statsmodels.api as sm"
   ]
  },
  {
   "cell_type": "code",
   "execution_count": 542,
   "metadata": {},
   "outputs": [],
   "source": [
    "X_train_rfe = sm.add_constant(X_train_rfe)"
   ]
  },
  {
   "cell_type": "code",
   "execution_count": 543,
   "metadata": {},
   "outputs": [],
   "source": [
    "model1 = sm.OLS(y_train, X_train_rfe).fit()"
   ]
  },
  {
   "cell_type": "code",
   "execution_count": 544,
   "metadata": {},
   "outputs": [
    {
     "name": "stdout",
     "output_type": "stream",
     "text": [
      "                            OLS Regression Results                            \n",
      "==============================================================================\n",
      "Dep. Variable:            total_count   R-squared:                       0.843\n",
      "Model:                            OLS   Adj. R-squared:                  0.838\n",
      "Method:                 Least Squares   F-statistic:                     189.6\n",
      "Date:                Mon, 03 Aug 2020   Prob (F-statistic):          1.66e-188\n",
      "Time:                        15:08:34   Log-Likelihood:                -4115.5\n",
      "No. Observations:                 510   AIC:                             8261.\n",
      "Df Residuals:                     495   BIC:                             8324.\n",
      "Df Model:                          14                                         \n",
      "Covariance Type:            nonrobust                                         \n",
      "================================================================================================\n",
      "                                   coef    std err          t      P>|t|      [0.025      0.975]\n",
      "------------------------------------------------------------------------------------------------\n",
      "const                         2220.9366    222.239      9.993      0.000    1784.288    2657.585\n",
      "year                          2020.9031     70.685     28.590      0.000    1882.023    2159.784\n",
      "is_holiday                     -17.3834    185.900     -0.094      0.926    -382.634     347.867\n",
      "is_workingday                  843.6728     81.283     10.379      0.000     683.971    1003.375\n",
      "atemp                         4137.8322    288.982     14.319      0.000    3570.049    4705.616\n",
      "humidity                     -1259.1958    329.312     -3.824      0.000   -1906.217    -612.174\n",
      "windspeed                    -1403.9508    224.489     -6.254      0.000   -1845.019    -962.883\n",
      "weather_condition_Cloudy      -516.0696     91.763     -5.624      0.000    -696.363    -335.777\n",
      "weather_condition_Light Rain -2159.0169    230.346     -9.373      0.000   -2611.594   -1706.440\n",
      "season_spring                 -906.2623    132.153     -6.858      0.000   -1165.912    -646.613\n",
      "season_winter                  398.0845    106.187      3.749      0.000     189.452     606.717\n",
      "weekday_Sat                    930.7792     99.749      9.331      0.000     734.796    1126.762\n",
      "weekday_Sun                    463.8680    104.773      4.427      0.000     258.013     669.723\n",
      "month_Jan                     -346.0967    152.859     -2.264      0.024    -646.428     -45.765\n",
      "month_Jul                     -607.8706    148.896     -4.083      0.000    -900.417    -315.325\n",
      "month_Sep                      544.0018    134.473      4.045      0.000     279.794     808.210\n",
      "==============================================================================\n",
      "Omnibus:                       62.546   Durbin-Watson:                   2.047\n",
      "Prob(Omnibus):                  0.000   Jarque-Bera (JB):              168.716\n",
      "Skew:                          -0.605   Prob(JB):                     2.31e-37\n",
      "Kurtosis:                       5.544   Cond. No.                     8.32e+15\n",
      "==============================================================================\n",
      "\n",
      "Warnings:\n",
      "[1] Standard Errors assume that the covariance matrix of the errors is correctly specified.\n",
      "[2] The smallest eigenvalue is 2.12e-29. This might indicate that there are\n",
      "strong multicollinearity problems or that the design matrix is singular.\n"
     ]
    }
   ],
   "source": [
    "print(model1.summary())"
   ]
  },
  {
   "cell_type": "markdown",
   "metadata": {},
   "source": [
    "We see that is_holiday has very high p-value, which indicates that is not significant, hence removing it from the train set.\n",
    "And then we build the model2 again."
   ]
  },
  {
   "cell_type": "code",
   "execution_count": 545,
   "metadata": {},
   "outputs": [
    {
     "name": "stdout",
     "output_type": "stream",
     "text": [
      "                            OLS Regression Results                            \n",
      "==============================================================================\n",
      "Dep. Variable:            total_count   R-squared:                       0.843\n",
      "Model:                            OLS   Adj. R-squared:                  0.838\n",
      "Method:                 Least Squares   F-statistic:                     189.6\n",
      "Date:                Mon, 03 Aug 2020   Prob (F-statistic):          1.66e-188\n",
      "Time:                        15:08:35   Log-Likelihood:                -4115.5\n",
      "No. Observations:                 510   AIC:                             8261.\n",
      "Df Residuals:                     495   BIC:                             8324.\n",
      "Df Model:                          14                                         \n",
      "Covariance Type:            nonrobust                                         \n",
      "================================================================================================\n",
      "                                   coef    std err          t      P>|t|      [0.025      0.975]\n",
      "------------------------------------------------------------------------------------------------\n",
      "const                         2203.5532    348.950      6.315      0.000    1517.946    2889.160\n",
      "year                          2020.9031     70.685     28.590      0.000    1882.023    2159.784\n",
      "is_workingday                  861.0561    223.784      3.848      0.000     421.372    1300.740\n",
      "atemp                         4137.8322    288.982     14.319      0.000    3570.049    4705.616\n",
      "humidity                     -1259.1958    329.312     -3.824      0.000   -1906.217    -612.174\n",
      "windspeed                    -1403.9508    224.489     -6.254      0.000   -1845.019    -962.883\n",
      "weather_condition_Cloudy      -516.0696     91.763     -5.624      0.000    -696.363    -335.777\n",
      "weather_condition_Light Rain -2159.0169    230.346     -9.373      0.000   -2611.594   -1706.440\n",
      "season_spring                 -906.2623    132.153     -6.858      0.000   -1165.912    -646.613\n",
      "season_winter                  398.0845    106.187      3.749      0.000     189.452     606.717\n",
      "weekday_Sat                    948.1625    236.463      4.010      0.000     483.567    1412.758\n",
      "weekday_Sun                    481.2514    237.733      2.024      0.043      14.162     948.341\n",
      "month_Jan                     -346.0967    152.859     -2.264      0.024    -646.428     -45.765\n",
      "month_Jul                     -607.8706    148.896     -4.083      0.000    -900.417    -315.325\n",
      "month_Sep                      544.0018    134.473      4.045      0.000     279.794     808.210\n",
      "==============================================================================\n",
      "Omnibus:                       62.546   Durbin-Watson:                   2.047\n",
      "Prob(Omnibus):                  0.000   Jarque-Bera (JB):              168.716\n",
      "Skew:                          -0.605   Prob(JB):                     2.31e-37\n",
      "Kurtosis:                       5.544   Cond. No.                         24.2\n",
      "==============================================================================\n",
      "\n",
      "Warnings:\n",
      "[1] Standard Errors assume that the covariance matrix of the errors is correctly specified.\n"
     ]
    }
   ],
   "source": [
    "X_train_2 = X_train_rfe.drop('is_holiday', axis=1)\n",
    "model2 = sm.OLS(y_train,  X_train_2).fit()\n",
    "print(model2.summary())"
   ]
  },
  {
   "cell_type": "markdown",
   "metadata": {},
   "source": [
    "Now we check the VIF of the reamining variabale"
   ]
  },
  {
   "cell_type": "code",
   "execution_count": 546,
   "metadata": {},
   "outputs": [
    {
     "data": {
      "text/plain": [
       "Index(['const', 'year', 'is_workingday', 'atemp', 'humidity', 'windspeed',\n",
       "       'weather_condition_Cloudy', 'weather_condition_Light Rain',\n",
       "       'season_spring', 'season_winter', 'weekday_Sat', 'weekday_Sun',\n",
       "       'month_Jan', 'month_Jul', 'month_Sep'],\n",
       "      dtype='object')"
      ]
     },
     "execution_count": 546,
     "metadata": {},
     "output_type": "execute_result"
    }
   ],
   "source": [
    "X_train_2.columns"
   ]
  },
  {
   "cell_type": "code",
   "execution_count": 547,
   "metadata": {},
   "outputs": [
    {
     "data": {
      "text/html": [
       "<div>\n",
       "<style scoped>\n",
       "    .dataframe tbody tr th:only-of-type {\n",
       "        vertical-align: middle;\n",
       "    }\n",
       "\n",
       "    .dataframe tbody tr th {\n",
       "        vertical-align: top;\n",
       "    }\n",
       "\n",
       "    .dataframe thead th {\n",
       "        text-align: right;\n",
       "    }\n",
       "</style>\n",
       "<table border=\"1\" class=\"dataframe\">\n",
       "  <thead>\n",
       "    <tr style=\"text-align: right;\">\n",
       "      <th></th>\n",
       "      <th>features</th>\n",
       "      <th>VIF</th>\n",
       "    </tr>\n",
       "  </thead>\n",
       "  <tbody>\n",
       "    <tr>\n",
       "      <th>3</th>\n",
       "      <td>humidity</td>\n",
       "      <td>29.98</td>\n",
       "    </tr>\n",
       "    <tr>\n",
       "      <th>2</th>\n",
       "      <td>atemp</td>\n",
       "      <td>18.21</td>\n",
       "    </tr>\n",
       "    <tr>\n",
       "      <th>1</th>\n",
       "      <td>is_workingday</td>\n",
       "      <td>17.13</td>\n",
       "    </tr>\n",
       "    <tr>\n",
       "      <th>9</th>\n",
       "      <td>weekday_Sat</td>\n",
       "      <td>4.62</td>\n",
       "    </tr>\n",
       "    <tr>\n",
       "      <th>4</th>\n",
       "      <td>windspeed</td>\n",
       "      <td>4.51</td>\n",
       "    </tr>\n",
       "    <tr>\n",
       "      <th>10</th>\n",
       "      <td>weekday_Sun</td>\n",
       "      <td>4.49</td>\n",
       "    </tr>\n",
       "    <tr>\n",
       "      <th>7</th>\n",
       "      <td>season_spring</td>\n",
       "      <td>3.05</td>\n",
       "    </tr>\n",
       "    <tr>\n",
       "      <th>5</th>\n",
       "      <td>weather_condition_Cloudy</td>\n",
       "      <td>2.28</td>\n",
       "    </tr>\n",
       "    <tr>\n",
       "      <th>8</th>\n",
       "      <td>season_winter</td>\n",
       "      <td>2.11</td>\n",
       "    </tr>\n",
       "    <tr>\n",
       "      <th>0</th>\n",
       "      <td>year</td>\n",
       "      <td>2.08</td>\n",
       "    </tr>\n",
       "    <tr>\n",
       "      <th>11</th>\n",
       "      <td>month_Jan</td>\n",
       "      <td>1.68</td>\n",
       "    </tr>\n",
       "    <tr>\n",
       "      <th>12</th>\n",
       "      <td>month_Jul</td>\n",
       "      <td>1.40</td>\n",
       "    </tr>\n",
       "    <tr>\n",
       "      <th>6</th>\n",
       "      <td>weather_condition_Light Rain</td>\n",
       "      <td>1.24</td>\n",
       "    </tr>\n",
       "    <tr>\n",
       "      <th>13</th>\n",
       "      <td>month_Sep</td>\n",
       "      <td>1.20</td>\n",
       "    </tr>\n",
       "  </tbody>\n",
       "</table>\n",
       "</div>"
      ],
      "text/plain": [
       "                        features    VIF\n",
       "3                       humidity  29.98\n",
       "2                          atemp  18.21\n",
       "1                  is_workingday  17.13\n",
       "9                    weekday_Sat   4.62\n",
       "4                      windspeed   4.51\n",
       "10                   weekday_Sun   4.49\n",
       "7                  season_spring   3.05\n",
       "5       weather_condition_Cloudy   2.28\n",
       "8                  season_winter   2.11\n",
       "0                           year   2.08\n",
       "11                     month_Jan   1.68\n",
       "12                     month_Jul   1.40\n",
       "6   weather_condition_Light Rain   1.24\n",
       "13                     month_Sep   1.20"
      ]
     },
     "execution_count": 547,
     "metadata": {},
     "output_type": "execute_result"
    }
   ],
   "source": [
    "from statsmodels.stats.outliers_influence import variance_inflation_factor\n",
    "\n",
    "vif = pd.DataFrame()\n",
    "X = X_train_2.drop('const', axis=1)\n",
    "vif['features'] = X.columns\n",
    "vif['VIF'] = [variance_inflation_factor(X.values, i) for i in  range(X.shape[1])]\n",
    "vif['VIF'] = round(vif['VIF'], 2)\n",
    "vif = vif.sort_values(by='VIF', ascending=False)\n",
    "vif"
   ]
  },
  {
   "cell_type": "markdown",
   "metadata": {},
   "source": [
    "The VIF of humudity is very high, it means the humidity can be explained using other variables. Its ovious because humidity is dependent upon the wather condition and the season"
   ]
  },
  {
   "cell_type": "code",
   "execution_count": 548,
   "metadata": {},
   "outputs": [
    {
     "name": "stdout",
     "output_type": "stream",
     "text": [
      "                            OLS Regression Results                            \n",
      "==============================================================================\n",
      "Dep. Variable:            total_count   R-squared:                       0.838\n",
      "Model:                            OLS   Adj. R-squared:                  0.834\n",
      "Method:                 Least Squares   F-statistic:                     197.6\n",
      "Date:                Mon, 03 Aug 2020   Prob (F-statistic):          1.51e-186\n",
      "Time:                        15:08:35   Log-Likelihood:                -4122.9\n",
      "No. Observations:                 510   AIC:                             8274.\n",
      "Df Residuals:                     496   BIC:                             8333.\n",
      "Df Model:                          13                                         \n",
      "Covariance Type:            nonrobust                                         \n",
      "================================================================================================\n",
      "                                   coef    std err          t      P>|t|      [0.025      0.975]\n",
      "------------------------------------------------------------------------------------------------\n",
      "const                         1538.8366    306.692      5.018      0.000     936.261    2141.412\n",
      "year                          2051.3805     71.192     28.815      0.000    1911.505    2191.256\n",
      "is_workingday                  867.9578    226.829      3.826      0.000     422.294    1313.621\n",
      "atemp                         3861.9311    283.646     13.615      0.000    3304.636    4419.226\n",
      "windspeed                    -1180.6195    219.713     -5.373      0.000   -1612.303    -748.936\n",
      "weather_condition_Cloudy      -718.4773     75.978     -9.456      0.000    -867.755    -569.199\n",
      "weather_condition_Light Rain -2510.0733    214.140    -11.722      0.000   -2930.807   -2089.340\n",
      "season_spring                 -930.7713    133.797     -6.957      0.000   -1193.651    -667.892\n",
      "season_winter                  321.0876    105.682      3.038      0.003     113.448     528.727\n",
      "weekday_Sat                    969.3392    239.622      4.045      0.000     498.540    1440.139\n",
      "weekday_Sun                    463.5344    240.929      1.924      0.055      -9.833     936.902\n",
      "month_Jan                     -380.1040    154.681     -2.457      0.014    -684.014     -76.194\n",
      "month_Jul                     -544.7398    149.996     -3.632      0.000    -839.445    -250.034\n",
      "month_Sep                      517.4451    136.125      3.801      0.000     249.993     784.898\n",
      "==============================================================================\n",
      "Omnibus:                       65.217   Durbin-Watson:                   2.043\n",
      "Prob(Omnibus):                  0.000   Jarque-Bera (JB):              169.625\n",
      "Skew:                          -0.643   Prob(JB):                     1.47e-37\n",
      "Kurtosis:                       5.515   Cond. No.                         21.2\n",
      "==============================================================================\n",
      "\n",
      "Warnings:\n",
      "[1] Standard Errors assume that the covariance matrix of the errors is correctly specified.\n"
     ]
    }
   ],
   "source": [
    "X_train_3 = X_train_2.drop('humidity', axis=1)\n",
    "model3 = sm.OLS(y_train,  X_train_3).fit()\n",
    "print(model3.summary())"
   ]
  },
  {
   "cell_type": "code",
   "execution_count": 549,
   "metadata": {},
   "outputs": [
    {
     "data": {
      "text/html": [
       "<div>\n",
       "<style scoped>\n",
       "    .dataframe tbody tr th:only-of-type {\n",
       "        vertical-align: middle;\n",
       "    }\n",
       "\n",
       "    .dataframe tbody tr th {\n",
       "        vertical-align: top;\n",
       "    }\n",
       "\n",
       "    .dataframe thead th {\n",
       "        text-align: right;\n",
       "    }\n",
       "</style>\n",
       "<table border=\"1\" class=\"dataframe\">\n",
       "  <thead>\n",
       "    <tr style=\"text-align: right;\">\n",
       "      <th></th>\n",
       "      <th>features</th>\n",
       "      <th>VIF</th>\n",
       "    </tr>\n",
       "  </thead>\n",
       "  <tbody>\n",
       "    <tr>\n",
       "      <th>1</th>\n",
       "      <td>is_workingday</td>\n",
       "      <td>13.71</td>\n",
       "    </tr>\n",
       "    <tr>\n",
       "      <th>2</th>\n",
       "      <td>atemp</td>\n",
       "      <td>12.74</td>\n",
       "    </tr>\n",
       "    <tr>\n",
       "      <th>3</th>\n",
       "      <td>windspeed</td>\n",
       "      <td>4.50</td>\n",
       "    </tr>\n",
       "    <tr>\n",
       "      <th>8</th>\n",
       "      <td>weekday_Sat</td>\n",
       "      <td>3.90</td>\n",
       "    </tr>\n",
       "    <tr>\n",
       "      <th>9</th>\n",
       "      <td>weekday_Sun</td>\n",
       "      <td>3.66</td>\n",
       "    </tr>\n",
       "    <tr>\n",
       "      <th>6</th>\n",
       "      <td>season_spring</td>\n",
       "      <td>2.81</td>\n",
       "    </tr>\n",
       "    <tr>\n",
       "      <th>0</th>\n",
       "      <td>year</td>\n",
       "      <td>2.07</td>\n",
       "    </tr>\n",
       "    <tr>\n",
       "      <th>7</th>\n",
       "      <td>season_winter</td>\n",
       "      <td>1.75</td>\n",
       "    </tr>\n",
       "    <tr>\n",
       "      <th>10</th>\n",
       "      <td>month_Jan</td>\n",
       "      <td>1.65</td>\n",
       "    </tr>\n",
       "    <tr>\n",
       "      <th>4</th>\n",
       "      <td>weather_condition_Cloudy</td>\n",
       "      <td>1.58</td>\n",
       "    </tr>\n",
       "    <tr>\n",
       "      <th>11</th>\n",
       "      <td>month_Jul</td>\n",
       "      <td>1.37</td>\n",
       "    </tr>\n",
       "    <tr>\n",
       "      <th>12</th>\n",
       "      <td>month_Sep</td>\n",
       "      <td>1.20</td>\n",
       "    </tr>\n",
       "    <tr>\n",
       "      <th>5</th>\n",
       "      <td>weather_condition_Light Rain</td>\n",
       "      <td>1.09</td>\n",
       "    </tr>\n",
       "  </tbody>\n",
       "</table>\n",
       "</div>"
      ],
      "text/plain": [
       "                        features    VIF\n",
       "1                  is_workingday  13.71\n",
       "2                          atemp  12.74\n",
       "3                      windspeed   4.50\n",
       "8                    weekday_Sat   3.90\n",
       "9                    weekday_Sun   3.66\n",
       "6                  season_spring   2.81\n",
       "0                           year   2.07\n",
       "7                  season_winter   1.75\n",
       "10                     month_Jan   1.65\n",
       "4       weather_condition_Cloudy   1.58\n",
       "11                     month_Jul   1.37\n",
       "12                     month_Sep   1.20\n",
       "5   weather_condition_Light Rain   1.09"
      ]
     },
     "execution_count": 549,
     "metadata": {},
     "output_type": "execute_result"
    }
   ],
   "source": [
    "from statsmodels.stats.outliers_influence import variance_inflation_factor\n",
    "\n",
    "vif = pd.DataFrame()\n",
    "X = X_train_3.drop('const', axis=1)\n",
    "vif['features'] = X.columns\n",
    "vif['VIF'] = [variance_inflation_factor(X.values, i) for i in  range(X.shape[1])]\n",
    "vif['VIF'] = round(vif['VIF'], 2)\n",
    "vif = vif.sort_values(by='VIF', ascending=False)\n",
    "vif"
   ]
  },
  {
   "cell_type": "markdown",
   "metadata": {},
   "source": [
    "    In this next try, I will drop `is_workingday` becuase of its high VIF, from the model "
   ]
  },
  {
   "cell_type": "code",
   "execution_count": 550,
   "metadata": {},
   "outputs": [
    {
     "name": "stdout",
     "output_type": "stream",
     "text": [
      "                            OLS Regression Results                            \n",
      "==============================================================================\n",
      "Dep. Variable:            total_count   R-squared:                       0.833\n",
      "Model:                            OLS   Adj. R-squared:                  0.829\n",
      "Method:                 Least Squares   F-statistic:                     207.1\n",
      "Date:                Mon, 03 Aug 2020   Prob (F-statistic):          1.35e-184\n",
      "Time:                        15:08:36   Log-Likelihood:                -4130.3\n",
      "No. Observations:                 510   AIC:                             8287.\n",
      "Df Residuals:                     497   BIC:                             8342.\n",
      "Df Model:                          12                                         \n",
      "Covariance Type:            nonrobust                                         \n",
      "================================================================================================\n",
      "                                   coef    std err          t      P>|t|      [0.025      0.975]\n",
      "------------------------------------------------------------------------------------------------\n",
      "const                         2377.8676    217.355     10.940      0.000    1950.820    2804.915\n",
      "year                          2055.4906     72.155     28.487      0.000    1913.725    2197.256\n",
      "atemp                         3877.3653    287.483     13.487      0.000    3312.533    4442.197\n",
      "windspeed                    -1198.3922    222.659     -5.382      0.000   -1635.861    -760.924\n",
      "weather_condition_Cloudy      -702.1268     76.892     -9.131      0.000    -853.200    -551.054\n",
      "weather_condition_Light Rain -2470.7006    216.808    -11.396      0.000   -2896.675   -2044.727\n",
      "season_spring                 -951.2295    135.513     -7.019      0.000   -1217.478    -684.981\n",
      "season_winter                  295.1338    106.902      2.761      0.006      85.099     505.169\n",
      "weekday_Sat                    134.6744    100.544      1.339      0.181     -62.869     332.218\n",
      "weekday_Sun                   -370.5367    104.038     -3.562      0.000    -574.944    -166.129\n",
      "month_Jan                     -386.4130    156.780     -2.465      0.014    -694.447     -78.379\n",
      "month_Jul                     -540.5005    152.036     -3.555      0.000    -839.214    -241.787\n",
      "month_Sep                      485.0051    137.713      3.522      0.000     214.434     755.576\n",
      "==============================================================================\n",
      "Omnibus:                       80.014   Durbin-Watson:                   2.001\n",
      "Prob(Omnibus):                  0.000   Jarque-Bera (JB):              223.019\n",
      "Skew:                          -0.762   Prob(JB):                     3.73e-49\n",
      "Kurtosis:                       5.859   Cond. No.                         14.9\n",
      "==============================================================================\n",
      "\n",
      "Warnings:\n",
      "[1] Standard Errors assume that the covariance matrix of the errors is correctly specified.\n"
     ]
    }
   ],
   "source": [
    "X_train_4 = X_train_3.drop('is_workingday', axis=1)\n",
    "model4 = sm.OLS(y_train,  X_train_4).fit()\n",
    "print(model4.summary())"
   ]
  },
  {
   "cell_type": "markdown",
   "metadata": {},
   "source": [
    "Here we have altmost same Rsquare and adjusted Rsquare, so this means there are no extra variables included in the model"
   ]
  },
  {
   "cell_type": "code",
   "execution_count": 551,
   "metadata": {},
   "outputs": [
    {
     "data": {
      "text/html": [
       "<div>\n",
       "<style scoped>\n",
       "    .dataframe tbody tr th:only-of-type {\n",
       "        vertical-align: middle;\n",
       "    }\n",
       "\n",
       "    .dataframe tbody tr th {\n",
       "        vertical-align: top;\n",
       "    }\n",
       "\n",
       "    .dataframe thead th {\n",
       "        text-align: right;\n",
       "    }\n",
       "</style>\n",
       "<table border=\"1\" class=\"dataframe\">\n",
       "  <thead>\n",
       "    <tr style=\"text-align: right;\">\n",
       "      <th></th>\n",
       "      <th>features</th>\n",
       "      <th>VIF</th>\n",
       "    </tr>\n",
       "  </thead>\n",
       "  <tbody>\n",
       "    <tr>\n",
       "      <th>1</th>\n",
       "      <td>atemp</td>\n",
       "      <td>4.66</td>\n",
       "    </tr>\n",
       "    <tr>\n",
       "      <th>2</th>\n",
       "      <td>windspeed</td>\n",
       "      <td>3.95</td>\n",
       "    </tr>\n",
       "    <tr>\n",
       "      <th>5</th>\n",
       "      <td>season_spring</td>\n",
       "      <td>2.25</td>\n",
       "    </tr>\n",
       "    <tr>\n",
       "      <th>0</th>\n",
       "      <td>year</td>\n",
       "      <td>2.06</td>\n",
       "    </tr>\n",
       "    <tr>\n",
       "      <th>9</th>\n",
       "      <td>month_Jan</td>\n",
       "      <td>1.60</td>\n",
       "    </tr>\n",
       "    <tr>\n",
       "      <th>3</th>\n",
       "      <td>weather_condition_Cloudy</td>\n",
       "      <td>1.53</td>\n",
       "    </tr>\n",
       "    <tr>\n",
       "      <th>6</th>\n",
       "      <td>season_winter</td>\n",
       "      <td>1.41</td>\n",
       "    </tr>\n",
       "    <tr>\n",
       "      <th>10</th>\n",
       "      <td>month_Jul</td>\n",
       "      <td>1.35</td>\n",
       "    </tr>\n",
       "    <tr>\n",
       "      <th>7</th>\n",
       "      <td>weekday_Sat</td>\n",
       "      <td>1.22</td>\n",
       "    </tr>\n",
       "    <tr>\n",
       "      <th>8</th>\n",
       "      <td>weekday_Sun</td>\n",
       "      <td>1.21</td>\n",
       "    </tr>\n",
       "    <tr>\n",
       "      <th>11</th>\n",
       "      <td>month_Sep</td>\n",
       "      <td>1.20</td>\n",
       "    </tr>\n",
       "    <tr>\n",
       "      <th>4</th>\n",
       "      <td>weather_condition_Light Rain</td>\n",
       "      <td>1.08</td>\n",
       "    </tr>\n",
       "  </tbody>\n",
       "</table>\n",
       "</div>"
      ],
      "text/plain": [
       "                        features   VIF\n",
       "1                          atemp  4.66\n",
       "2                      windspeed  3.95\n",
       "5                  season_spring  2.25\n",
       "0                           year  2.06\n",
       "9                      month_Jan  1.60\n",
       "3       weather_condition_Cloudy  1.53\n",
       "6                  season_winter  1.41\n",
       "10                     month_Jul  1.35\n",
       "7                    weekday_Sat  1.22\n",
       "8                    weekday_Sun  1.21\n",
       "11                     month_Sep  1.20\n",
       "4   weather_condition_Light Rain  1.08"
      ]
     },
     "execution_count": 551,
     "metadata": {},
     "output_type": "execute_result"
    }
   ],
   "source": [
    "from statsmodels.stats.outliers_influence import variance_inflation_factor\n",
    "\n",
    "vif = pd.DataFrame()\n",
    "X = X_train_4.drop('const', axis=1)\n",
    "vif['features'] = X.columns\n",
    "vif['VIF'] = [variance_inflation_factor(X.values, i) for i in  range(X.shape[1])]\n",
    "vif['VIF'] = round(vif['VIF'], 2)\n",
    "vif = vif.sort_values(by='VIF', ascending=False)\n",
    "vif"
   ]
  },
  {
   "cell_type": "code",
   "execution_count": 552,
   "metadata": {},
   "outputs": [],
   "source": [
    "y_train_pred = model4.predict(X_train_4)"
   ]
  },
  {
   "cell_type": "code",
   "execution_count": 553,
   "metadata": {},
   "outputs": [
    {
     "data": {
      "text/plain": [
       "<matplotlib.axes._subplots.AxesSubplot at 0x1e6e3a9a048>"
      ]
     },
     "execution_count": 553,
     "metadata": {},
     "output_type": "execute_result"
    },
    {
     "data": {
      "image/png": "[encoded data removed]",
      "text/plain": [
       "<Figure size 432x288 with 1 Axes>"
      ]
     },
     "metadata": {
      "needs_background": "light"
     },
     "output_type": "display_data"
    }
   ],
   "source": [
    "fig=plt.figure()\n",
    "sns.distplot(y_train_pred-y_train, bins=20)"
   ]
  },
  {
   "cell_type": "markdown",
   "metadata": {},
   "source": [
    "So the error terms the normally distributed, which validates one of the assumptions of Linear Regression"
   ]
  },
  {
   "cell_type": "code",
   "execution_count": 554,
   "metadata": {},
   "outputs": [
    {
     "data": {
      "text/plain": [
       "(510, 13)"
      ]
     },
     "execution_count": 554,
     "metadata": {},
     "output_type": "execute_result"
    }
   ],
   "source": [
    "X_train_4.shape"
   ]
  },
  {
   "cell_type": "code",
   "execution_count": 555,
   "metadata": {},
   "outputs": [
    {
     "data": {
      "text/plain": [
       "Index(['const', 'year', 'atemp', 'windspeed', 'weather_condition_Cloudy',\n",
       "       'weather_condition_Light Rain', 'season_spring', 'season_winter',\n",
       "       'weekday_Sat', 'weekday_Sun', 'month_Jan', 'month_Jul', 'month_Sep'],\n",
       "      dtype='object')"
      ]
     },
     "execution_count": 555,
     "metadata": {},
     "output_type": "execute_result"
    }
   ],
   "source": [
    "X_train_4.columns"
   ]
  },
  {
   "cell_type": "markdown",
   "metadata": {},
   "source": [
    "Cheking the pattern of predicted and actual test values."
   ]
  },
  {
   "cell_type": "code",
   "execution_count": 556,
   "metadata": {},
   "outputs": [
    {
     "data": {
      "text/plain": [
       "Text(0, 0.5, 'y_pred')"
      ]
     },
     "execution_count": 556,
     "metadata": {},
     "output_type": "execute_result"
    },
    {
     "data": {
      "image/png": "[encoded data removed]",
      "text/plain": [
       "<Figure size 432x288 with 1 Axes>"
      ]
     },
     "metadata": {
      "needs_background": "light"
     },
     "output_type": "display_data"
    }
   ],
   "source": [
    "fig = plt.figure()\n",
    "plt.scatter(y_test,y_pred)\n",
    "fig.suptitle('y_test vs y_pred', fontsize=20)              # Plot heading \n",
    "plt.xlabel('y_test', fontsize=18)                          # X-label\n",
    "plt.ylabel('y_pred', fontsize=16)   "
   ]
  },
  {
   "cell_type": "markdown",
   "metadata": {},
   "source": [
    "So we see that the predicted and the actual values have a constant variance.\n"
   ]
  },
  {
   "cell_type": "markdown",
   "metadata": {},
   "source": [
    "Calculating the final r-squared score using the sklearn metrics"
   ]
  },
  {
   "cell_type": "code",
   "execution_count": 557,
   "metadata": {},
   "outputs": [],
   "source": [
    "from sklearn.metrics import r2_score"
   ]
  },
  {
   "cell_type": "code",
   "execution_count": 558,
   "metadata": {},
   "outputs": [
    {
     "data": {
      "text/plain": [
       "0.7964322728522617"
      ]
     },
     "execution_count": 558,
     "metadata": {},
     "output_type": "execute_result"
    }
   ],
   "source": [
    "r2_score(y_test, y_pred)"
   ]
  },
  {
   "cell_type": "markdown",
   "metadata": {},
   "source": [
    "SO we see that the Rsquare value of train data was 83.3% and for the test set it is 79.6 %"
   ]
  },
  {
   "cell_type": "markdown",
   "metadata": {},
   "source": [
    "The top most important features using this model are:\n",
    "    atemp, windspeed, season , weather condition, day of the week "
   ]
  },
  {
   "cell_type": "code",
   "execution_count": null,
   "metadata": {},
   "outputs": [],
   "source": []
  },
  {
   "cell_type": "code",
   "execution_count": null,
   "metadata": {},
   "outputs": [],
   "source": []
  }
 ],
 "metadata": {
  "kernelspec": {
   "display_name": "Python 3",
   "language": "python",
   "name": "python3"
  },
  "language_info": {
   "codemirror_mode": {
    "name": "ipython",
    "version": 3
   },
   "file_extension": ".py",
   "mimetype": "text/x-python",
   "name": "python",
   "nbconvert_exporter": "python",
   "pygments_lexer": "ipython3",
   "version": "3.7.4"
  }
 },
 "nbformat": 4,
 "nbformat_minor": 4
}
