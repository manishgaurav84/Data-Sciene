{
 "metadata": {
  "name": "",
  "signature": "sha256:8c539e8fa3f6ab48c3903b458cd81f397b46db7b04b34d9dec69e9cc7a6ec36f"
 },
 "nbformat": 3,
 "nbformat_minor": 0,
 "worksheets": [
  {
   "cells": [
    {
     "cell_type": "code",
     "collapsed": false,
     "input": [],
     "language": "python",
     "metadata": {},
     "outputs": []
    }
   ],
   "metadata": {}
  }
 ]
}